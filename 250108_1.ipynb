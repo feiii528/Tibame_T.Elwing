{
  "nbformat": 4,
  "nbformat_minor": 0,
  "metadata": {
    "colab": {
      "provenance": [],
      "authorship_tag": "ABX9TyNf9Ic9nfd35OQ2tv8Hz3ET",
      "include_colab_link": true
    },
    "kernelspec": {
      "name": "python3",
      "display_name": "Python 3"
    },
    "language_info": {
      "name": "python"
    }
  },
  "cells": [
    {
      "cell_type": "markdown",
      "metadata": {
        "id": "view-in-github",
        "colab_type": "text"
      },
      "source": [
        "<a href=\"https://colab.research.google.com/github/feiii528/Tibame_T.Elwing/blob/main/250108_1.ipynb\" target=\"_parent\"><img src=\"https://colab.research.google.com/assets/colab-badge.svg\" alt=\"Open In Colab\"/></a>"
      ]
    },
    {
      "cell_type": "markdown",
      "source": [
        "HTML格式\n",
        "```python\n",
        "長方形區塊構成, 一個包含一個\n",
        "\n",
        "<a href=\"網址\"> -> start\n",
        "\n",
        "</a> -> end\n",
        "\n",
        "1. 名字: 決定它的功能\n",
        "  !!! 開始和結束都寫一遍\n",
        "  a: 超連結\n",
        "  img/video: 圖片/影片\n",
        "\n",
        "2. 屬性: 決定這個特別區塊的一些細微屬性\n",
        "  !!! 寫在開頭的位置\n",
        "  !!! 屬性名=\"value\"\n",
        "  a href=\"網址\"\n",
        "  img/video src=\"網址\"\n",
        "\n",
        "3. 內容: 顯示文字\n",
        "  !!! 寫在開始和結束之間\n",
        "```"
      ],
      "metadata": {
        "id": "u9O_ieLOjfug"
      }
    },
    {
      "cell_type": "markdown",
      "source": [
        "```python\n",
        "網頁由三個東西構成(網頁前端):\n",
        "1. 內容(main): HTML\n",
        "2. 排版: CSS\n",
        "3. 動態: JavsScript語法\n",
        "  !!! 某個動作觸發了某些程式碼, 最後送出一個網址去得到更多東西\n",
        "  !!! 但我們care的是那個網址, 很少很少很少妳會真的想知道她怎麼觸發的\n",
        "  !!! 所以動態對你而言不需要認真研究\n",
        "```"
      ],
      "metadata": {
        "id": "NL32Vcb8ucYQ"
      }
    },
    {
      "cell_type": "markdown",
      "source": [
        "```python\n",
        "CSS語法: 選到妳要排版的區塊, 加上排版\n",
        "1. 利用區塊的名字:\n",
        "a{\n",
        "    名:值\n",
        "}\n",
        "!!! 但大部分時間我不是要選所有的超連結\n",
        "!!! 以我們上面介紹的HTML, 我是分不出來特定的超連結\n",
        "!!! 所以我們會特別在HTML區塊上, 加上特別的屬性\n",
        "!!! 這特別的屬性是為了排版而生, 讓我可以分出這些區塊\n",
        "!!! 兩個特別屬性\n",
        "!!! class=\"分類1 分類2 分類3\"\n",
        "\n",
        "2. 利用分類(class)屬性\n",
        "(e.g. class=\"good bad\"\n",
        ".good{\n",
        "}\n",
        "\n",
        "!!! id=\"身分證\"\n",
        "3. 針對id屬性\n",
        "(e.g. id=\"abc\")\n",
        "# abc{\n",
        "}\n",
        "\n",
        "```"
      ],
      "metadata": {
        "id": "sbPLr3G76NrL"
      }
    },
    {
      "cell_type": "markdown",
      "source": [
        "```python\n",
        "a{\n",
        "    background-color:red;\n",
        "}\n",
        "\n",
        ".js-thumbnail-img {\n",
        "    border-radius: 50%;\n",
        "}\n",
        "```"
      ],
      "metadata": {
        "id": "xGrvsCSr6S-B"
      }
    }
  ]
}