{
  "nbformat": 4,
  "nbformat_minor": 0,
  "metadata": {
    "colab": {
      "provenance": [],
      "authorship_tag": "ABX9TyPRwPnN1YXqKPb2GkWQiewM",
      "include_colab_link": true
    },
    "kernelspec": {
      "name": "python3",
      "display_name": "Python 3"
    },
    "language_info": {
      "name": "python"
    }
  },
  "cells": [
    {
      "cell_type": "markdown",
      "metadata": {
        "id": "view-in-github",
        "colab_type": "text"
      },
      "source": [
        "<a href=\"https://colab.research.google.com/github/feiii528/Tibame_T.Elwing/blob/main/250120_3pycharm.ipynb\" target=\"_parent\"><img src=\"https://colab.research.google.com/assets/colab-badge.svg\" alt=\"Open In Colab\"/></a>"
      ]
    },
    {
      "cell_type": "code",
      "execution_count": null,
      "metadata": {
        "id": "7Hb6BCyzjDR0"
      },
      "outputs": [],
      "source": [
        "# selenium: 如果你被擋住(妳是自動軟體.....)\n",
        "# undeteced-chromedriver: https://github.com/ultrafunkamsterdam/undetected-chromedriver/tree/master\n",
        "# 1. selenium 2. webdriver-manager\n",
        "import time\n",
        "from selenium.webdriver.chrome.service import Service\n",
        "from webdriver_manager.chrome import ChromeDriverManager\n",
        "from selenium import webdriver\n",
        "from selenium.webdriver.common.by import By\n",
        "from selenium.webdriver.common.keys import Keys\n",
        "\n",
        "import undetected_chromedriver as uc\n",
        "\n",
        "if __name__ == '__main__':\n",
        "    driver = uc.Chrome(use_subprocess=False)\n",
        "\n",
        "    driver.get(\"https://www.google.com\")\n",
        "    driver.maximize_window()\n",
        "\n",
        "    e = driver.find_element(By.CLASS_NAME, \"gLFyf\")\n",
        "    e.send_keys(\"農曆新年\")\n",
        "    e.send_keys(Keys.ENTER)\n",
        "\n",
        "    time.sleep(3)\n",
        "    driver.quit()"
      ]
    },
    {
      "cell_type": "markdown",
      "source": [
        "```python\n",
        "妳對應錯誤應該有兩種方法\n",
        "1. 事前預防: if-else\n",
        "例子(bs)\n",
        "if xxxx == None:\n",
        "    xxx\n",
        "else:\n",
        "    xxx.text\n",
        "\n",
        "2. 事後解決: 準備好一個措施來應對隨時會發生的錯誤\n",
        "\n",
        "try:\n",
        "    xxx\n",
        "    xxx\n",
        "    xxx\n",
        "except 某個錯誤:\n",
        "    措施\n",
        "\n",
        "a. 沒有發生錯誤: 完全不會跑到except\n",
        "b. 發生錯誤(妳有except): 中斷try. 去執行except措施\n",
        "c. 發生錯誤(妳沒有except): 中斷, 紅字\n",
        "```"
      ],
      "metadata": {
        "id": "rP5LCWLSr9kJ"
      }
    },
    {
      "cell_type": "code",
      "source": [
        "# 1. selenium 2. webdriver-manager\n",
        "import time\n",
        "from selenium.webdriver.chrome.service import Service\n",
        "from webdriver_manager.chrome import ChromeDriverManager\n",
        "from selenium import webdriver\n",
        "from selenium.webdriver.common.by import By\n",
        "from selenium.webdriver.common.keys import Keys\n",
        "from selenium.common.exceptions import NoSuchElementException\n",
        "\n",
        "# 如果不做設置, chrome視窗有可能會自動關閉\n",
        "options = webdriver.ChromeOptions()\n",
        "options.add_experimental_option(\"detach\", True)\n",
        "\n",
        "driver = webdriver.Chrome(options=options,\n",
        "              service=Service(ChromeDriverManager().install()))\n",
        "\n",
        "driver.get(\"https://ani.gamer.com.tw/\")\n",
        "driver.maximize_window()\n",
        "\n",
        "# click() 點擊\n",
        "# send_keys(參數) 輸入\n",
        "# selenium 和 beautifulsoup的差別\n",
        "# bs: find       find_all\n",
        "# se: find_element   find_elements\n",
        "e = driver.find_element(By.ID, \"anime-search-sky\")\n",
        "e.send_keys(\"鬼滅之刃\")\n",
        "time.sleep(1)\n",
        "e.send_keys(Keys.ENTER)\n",
        "\n",
        "# 找到他的搜尋結果\n",
        "es = driver.find_elements(By.CLASS_NAME, \"theme-list-main\")\n",
        "for e in es:\n",
        "    try:\n",
        "        # bs 和 se 的比較\n",
        "        # bs: [\"href\"] .text\n",
        "        # se: get_attribute(\"href\")  .text\n",
        "        link = e.get_attribute(\"href\")\n",
        "        ttime = e.find_element(By.CLASS_NAME, \"theme-time\")\n",
        "        ttime_text = ttime.text\n",
        "        tname = e.find_element(By.CLASS_NAME, \"theme-name\")\n",
        "        tname_text = tname.text\n",
        "        print(tname_text, ttime_text)\n",
        "        print(link)\n",
        "        print(\"-\" * 30)\n",
        "    except NoSuchElementException:\n",
        "        print(\"pass\")\n",
        "        print(\"-\" * 30)\n",
        "\n",
        "time.sleep(1)\n",
        "driver.close()"
      ],
      "metadata": {
        "id": "pkNxL2P6r_bI"
      },
      "execution_count": null,
      "outputs": []
    },
    {
      "cell_type": "markdown",
      "source": [
        "```python\n",
        "同樣的網址->得到同樣的結果\n",
        "不同樣的網址->得到不同的結果\n",
        "\n",
        "雖然都是www.facebook.com\n",
        "最有可能不一樣的地方在於headers\n",
        "\n",
        "在妳第一次登入完成以後, facebook伺服器會要求妳在瀏覽器存入一組值(Cookie): 通關密碼\n",
        "\n",
        "下次當你拜訪同樣網址的時候, 這組值(Cookie)就會被自動帶入到headers\n",
        "\n",
        "facebook伺服器就會確認cookies這個headers\n",
        "```"
      ],
      "metadata": {
        "id": "jtobzjFEv-AJ"
      }
    },
    {
      "cell_type": "code",
      "source": [
        "# 1. selenium 2. webdriver-manager\n",
        "import time\n",
        "from selenium.webdriver.chrome.service import Service\n",
        "from webdriver_manager.chrome import ChromeDriverManager\n",
        "from selenium import webdriver\n",
        "from selenium.webdriver.common.by import By\n",
        "from selenium.webdriver.common.keys import Keys\n",
        "from selenium.common.exceptions import NoSuchElementException\n",
        "\n",
        "# 如果不做設置, chrome視窗有可能會自動關閉\n",
        "options = webdriver.ChromeOptions()\n",
        "options.add_experimental_option(\"detach\", True)\n",
        "\n",
        "driver = webdriver.Chrome(options=options,\n",
        "                          service=Service(ChromeDriverManager().install()))\n",
        "\n",
        "driver.get(\"https://www.facebook.com/\")\n",
        "driver.maximize_window()\n",
        "\n",
        "cookie_text = \"\"\n",
        "for cookie_split in cookie_text.split(\"; \"):\n",
        "    # 'sb=iYQJZxmGXZhrkqdKmbwCNttB'\n",
        "    k, v = cookie_split.split(\"=\")\n",
        "    driver.add_cookie({\"name\": k, \"value\": v})\n",
        "# 設置好cookie, 其實就像我登入了一樣\n",
        "driver.get(\"https://www.facebook.com/\")\n",
        "# 我看一下第三個超連結\n",
        "e = driver.find_elements(By.TAG_NAME, \"a\")[2]\n",
        "print(e.get_attribute(\"href\"))\n",
        "print(e.text)\n",
        "\n",
        "time.sleep(1)\n",
        "driver.close()"
      ],
      "metadata": {
        "id": "3wJnRBuYv_ve"
      },
      "execution_count": null,
      "outputs": []
    }
  ]
}