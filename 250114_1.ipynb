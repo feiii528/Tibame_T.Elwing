{
  "nbformat": 4,
  "nbformat_minor": 0,
  "metadata": {
    "colab": {
      "provenance": [],
      "authorship_tag": "ABX9TyNPDiPc9ZI6cT7fkogbgXZg",
      "include_colab_link": true
    },
    "kernelspec": {
      "name": "python3",
      "display_name": "Python 3"
    },
    "language_info": {
      "name": "python"
    }
  },
  "cells": [
    {
      "cell_type": "markdown",
      "metadata": {
        "id": "view-in-github",
        "colab_type": "text"
      },
      "source": [
        "<a href=\"https://colab.research.google.com/github/feiii528/Tibame_T.Elwing/blob/main/250114_1.ipynb\" target=\"_parent\"><img src=\"https://colab.research.google.com/assets/colab-badge.svg\" alt=\"Open In Colab\"/></a>"
      ]
    },
    {
      "cell_type": "markdown",
      "source": [
        "**HTTP開頭**\n",
        "\n",
        "```python\n",
        "2開頭: 成功\n",
        "\n",
        "3開頭: 轉址\n",
        "對面的網址已經搬家了, 雖然妳還是輸入舊網址, 但她會自動幫你替換成新網址\n",
        "\n",
        "4開頭: 錯誤\n",
        "\n",
        "404: Not Found\n",
        "!!! 最常見: 網址打錯\n",
        "403: Forbidden\n",
        "!!! 原因1: ip ban\n",
        "!!! 通常是數次的惡意行為(可能是短時間送太多...)\n",
        "!!! 解法: 等待/換ip\n",
        "!!! 原因2: 妳學的不像瀏覽器\n",
        "!!! 解法: 學的像一點(headers完善)\n",
        "\n",
        "```"
      ],
      "metadata": {
        "id": "Z8FMMpMUYQ54"
      }
    },
    {
      "cell_type": "markdown",
      "source": [
        "**Header**\n",
        "```python\n",
        "妳在送出網址的時候, 其實不只送出網址\n",
        "妳送出的是 網址+額外信息(request headers)\n",
        "\n",
        "妳在得到回應的時候, 其實不是只有得到回應\n",
        "回應+額外信息(response headers)\n",
        "```"
      ],
      "metadata": {
        "id": "omXoW39aYT7r"
      }
    },
    {
      "cell_type": "code",
      "execution_count": 31,
      "metadata": {
        "colab": {
          "base_uri": "https://localhost:8080/"
        },
        "id": "NmcHGh9U7jMZ",
        "outputId": "00a59158-b051-4cbc-d428-ae4b1de99db7"
      },
      "outputs": [
        {
          "output_type": "stream",
          "name": "stdout",
          "text": [
            "作者: Gentlemon (肥宅紳士)\n",
            "看板: Beauty\n",
            "分類: 正妹\n",
            "標題: Cosplay 1601 日本 約兒\n",
            "日期: Mon Jan 13 16:10:23 2025\n"
          ]
        }
      ],
      "source": [
        "import urllib.request as req\n",
        "# 若有bs4，可以不用read()\n",
        "import bs4 as bs\n",
        "\n",
        "url = \"https://www.ptt.cc/bbs/Beauty/M.1736755829.A.02A.html\"\n",
        "r = req.Request(url)\n",
        "r.add_header(\"User-Agent\", \"Mozilla/5.0 (Windows NT 10.0; Win64; x64) AppleWebKit/537.36 (KHTML, like Gecko) Chrome/131.0.0.0 Safari/537.36\")\n",
        "\n",
        "response = req.urlopen(r)\n",
        "html = bs.BeautifulSoup(response)\n",
        "\n",
        "# 如果沒有class的話\n",
        "# 1. 找她老爸\n",
        "# 2. 自己寫篩選方式(!!!!!)\n",
        "allow_subname = [\"jpg\", \"jpeg\", \"png\", \"gif\"]\n",
        "links = html.find_all(\"a\")\n",
        "\n",
        "content = html.find_all(\"span\", {\"class\":\"article-meta-value\"})\n",
        "\n",
        "id = content[0].text\n",
        "board = content[1].text\n",
        "title = content[2].text\n",
        "if title[0] == \"[\":\n",
        "    title_split = title.split(\"]\")\n",
        "    category = title_split[0].replace(\"[\", \"\")\n",
        "    title = title_split[-1].strip()\n",
        "else:\n",
        "    category = \"\"\n",
        "date = content[3].text\n",
        "\n",
        "print(\"作者:\", id)\n",
        "print(\"看板:\", board)\n",
        "print(\"分類:\", category)\n",
        "print(\"標題:\", title)\n",
        "print(\"日期:\", date)\n",
        "\n",
        "\n",
        "\n",
        "\n",
        "\n",
        "# for l in links:\n",
        "#     href = l[\"href\"]\n",
        "#     subname = href.split(\".\")[-1]\n",
        "#     if subname.lower() in allow_subname:\n",
        "#         r = req.Request(href)\n",
        "#         r.add_header(\"User-Agent\", \"Mozilla/5.0 (Windows NT 10.0; Win64; x64) AppleWebKit/537.36 (KHTML, like Gecko) Chrome/131.0.0.0 Safari/537.36\")\n",
        "#         img = req.urlopen(r)\n",
        "#         # open一個新檔案來儲存\n",
        "#         fname = href.split(\"/\")[-1]\n",
        "#         f = open(fname, \"wb\")\n",
        "#         f.write(img.read())\n",
        "#         f.close()\n",
        "#         # print(img.read())\n",
        "#         # print(\"-\" * 30)"
      ]
    }
  ]
}