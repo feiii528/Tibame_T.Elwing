{
  "nbformat": 4,
  "nbformat_minor": 0,
  "metadata": {
    "colab": {
      "provenance": [],
      "authorship_tag": "ABX9TyM7gXO9Tk+koXnurxLO9+mz",
      "include_colab_link": true
    },
    "kernelspec": {
      "name": "python3",
      "display_name": "Python 3"
    },
    "language_info": {
      "name": "python"
    }
  },
  "cells": [
    {
      "cell_type": "markdown",
      "metadata": {
        "id": "view-in-github",
        "colab_type": "text"
      },
      "source": [
        "<a href=\"https://colab.research.google.com/github/feiii528/Tibame_T.Elwing/blob/main/HW_1_practice.ipynb\" target=\"_parent\"><img src=\"https://colab.research.google.com/assets/colab-badge.svg\" alt=\"Open In Colab\"/></a>"
      ]
    },
    {
      "cell_type": "markdown",
      "source": [
        "# 第一題\n",
        "\n",
        "```python\n",
        "假設我總共有一百層階梯，現在我有兩種走路方式\n",
        "\n",
        "一種是踏一層，第二種是踏兩層\n",
        "\n",
        "請問我到達第一百層的時候，總共有幾種不同方式\n",
        "公式 l(x) = l(x-1) + l(x-2)\n",
        "\n",
        "-> 斐波納契問題\n",
        "0 1 1 2 3 5 8 13 21 34\n",
        "變成\n",
        "1 2 3 5 8 13...\n",
        "```"
      ],
      "metadata": {
        "id": "tNKcwsDWLiv4"
      }
    },
    {
      "cell_type": "code",
      "execution_count": null,
      "metadata": {
        "colab": {
          "base_uri": "https://localhost:8080/"
        },
        "id": "Lw4FkLGXLGCH",
        "outputId": "9a7810eb-1121-46d1-9ce1-84c260b0b4f4"
      },
      "outputs": [
        {
          "output_type": "stream",
          "name": "stdout",
          "text": [
            "100 573147844013817084101\n",
            "走100階總共有 573147844013817084101 種方式\n"
          ]
        }
      ],
      "source": [
        "# 前一階走到方式 prev1\n",
        "# 前兩階走到方式 prev2\n",
        "prev1, prev2 = 0, 0\n",
        "total = 100\n",
        "steep = 1\n",
        "\n",
        "for i in range(total):\n",
        "    # 當我走1階=1(0+1), 走2階=2(1+1), 走3階=3(2+1), 走4階=5(3+2)， 走5階=8(5+3)\n",
        "    # 主要要解決: prev1, prev2的設定\n",
        "    prev1 = prev2\n",
        "    prev2 = steep\n",
        "    steep = prev1 + prev2\n",
        "print(i+1, steep)\n",
        "print(\"走100階總共有\", steep, \"種方式\")"
      ]
    },
    {
      "cell_type": "markdown",
      "source": [
        "# 第二題\n",
        "\n",
        "```python\n",
        "凱薩密碼: 我們每個時間設定一個數字, 假設這數字=2, 那意味著妳再打每個英文字的時候都要往後兩個\n",
        "\n",
        "e.g. appley -> crrnga\n",
        "\n",
        "\n",
        "我已經給妳了一個加密過後的文件(使用凱薩密碼加密), 妳要幫我試試看破解這份文件\n",
        "\n",
        "加密的程式碼給你參考\n",
        "\n",
        "s = \"\"\"原文\"\"\"\n",
        "# 原文最後一句: trouble will come of it\n",
        "f = open(\"password.txt\", \"w\", encoding=\"utf-8\")\n",
        "password =\n",
        "for c in s.lower():\n",
        "    if ord(\"a\") <= ord(c) <= ord(\"z\"):\n",
        "        n = ord(c) - ord(\"a\")\n",
        "        n = (n + password) % 26\n",
        "        f.write(chr(n + ord(\"a\")))\n",
        "    else:\n",
        "        f.write(c)\n",
        "f.close()\n",
        "\n",
        "!!!\n",
        "\n",
        "```"
      ],
      "metadata": {
        "id": "pv1TTvSuWeOF"
      }
    },
    {
      "cell_type": "code",
      "source": [
        "import urllib.request as req\n",
        "\n",
        "url = \"https://github.com/Elwing-Chou/tibame1224/raw/refs/heads/main/password.txt\"\n",
        "# 參數1:下載網址\n",
        "# 參數2:儲存本機的時候的命名\n",
        "req.urlretrieve(url, \"password.txt\")\n",
        "f = open(\"password.txt\", \"r\", encoding=\"utf-8\")\n",
        "message = f.read()\n",
        "f.close()\n",
        "print(message)\n",
        "# 先想如果我假設 密碼=某個值, 我轉換成原文的程式會長什麼樣子\n",
        "# 基於上面我做26次, 看哪一個才是我真正的密碼\n",
        "\n",
        "for word in message:\n",
        "    # 如果我的字串裡有英文則往後加\n",
        "    # 如果含有非文字則保持不動\n",
        "    if word.isalpha():\n",
        "        # 減97讓它保持在數字為0開始，使用%26，看它的商剩餘多少，後面再加97補回來\n",
        "        word = ((ord(word) - 97 + 1) % 26) + 97\n",
        "        word = chr(word)\n",
        "    # 使用end=\"\"可以讓它出現在同一排字\n",
        "        print(word, end=\"\")\n",
        "    else:\n",
        "        print(word, end=\"\")"
      ],
      "metadata": {
        "colab": {
          "base_uri": "https://localhost:8080/"
        },
        "id": "mMnIeEXRUlye",
        "outputId": "4502cff3-8b3e-4673-873e-30e430c81aa3"
      },
      "execution_count": null,
      "outputs": [
        {
          "output_type": "stream",
          "name": "stdout",
          "text": [
            "p adcv-tmetrits epgin\n",
            "\n",
            "lwtc bg. qxaqd qpvvxch du qpv tcs pccdjcrts iwpi wt ldjas hwdgian qt rtatqgpixcv wxh tatktcin-uxghi qxgiwspn lxiw p epgin du hetrxpa bpvcxuxrtcrt, iwtgt lph bjrw ipaz pcs tmrxitbtci xc wdqqxidc.\n",
            "\n",
            "qxaqd lph ktgn gxrw pcs ktgn etrjaxpg, pcs wps qttc iwt ldcstg du iwt hwxgt udg hxmin ntpgh, tktg hxcrt wxh gtbpgzpqat sxhpeetpgpcrt pcs jctmetrits gtijgc. iwt gxrwth wt wps qgdjvwi qprz ugdb wxh igpktah wps cdl qtrdbt p adrpa atvtcs, pcs xi lph edejapgan qtaxtkts, lwpitktg iwt das udaz bxvwi hpn, iwpi iwt wxaa pi qpv tcs lph ujaa du ijcctah hijuuts lxiw igtphjgt. pcs xu iwpi lph cdi tcdjvw udg upbt, iwtgt lph pahd wxh egdadcvts kxvdjg id bpgkta pi. ixbt ldgt dc, qji xi httbts id wpkt axiiat tuutri dc bg. qpvvxch. pi cxctin wt lph bjrw iwt hpbt ph pi uxuin. pi cxctin-cxct iwtn qtvpc id rpaa wxb ltaa-egthtgkts, qji jcrwpcvts ldjas wpkt qttc ctpgtg iwt bpgz. iwtgt ltgt hdbt iwpi hwddz iwtxg wtpsh pcs iwdjvwi iwxh lph idd bjrw du p vdds iwxcv; xi httbts jcupxg iwpi pcndct hwdjas edhhthh (peepgtcian) etgetijpa ndjiw ph ltaa ph (gtejitsan) xctmwpjhixqat ltpaiw.\n",
            "\n",
            "'xi lxaa wpkt id qt epxs udg,' iwtn hpxs. 'xi xhc'i cpijgpa, pcs igdjqat lxaa rdbt du xi!'\n"
          ]
        }
      ]
    },
    {
      "cell_type": "code",
      "source": [
        "# 示範兩層迴圈, 不要想兩層, 裡面做的事先寫完\n",
        "# 把裡面的事情當成一行, 把這行做很多事\n",
        "# x * y =\n",
        "for i in range(9):\n",
        "    n1 = i + 1\n",
        "    for j in range(9):\n",
        "        n2 = j + 1\n",
        "        ans = n1 * n2\n",
        "        print(n1, \"*\", n2, \"=\", ans)"
      ],
      "metadata": {
        "colab": {
          "base_uri": "https://localhost:8080/"
        },
        "collapsed": true,
        "id": "zKAs2Nk6WsEQ",
        "outputId": "9ea27500-9b76-4d8f-838a-b428513ffc86"
      },
      "execution_count": null,
      "outputs": [
        {
          "output_type": "stream",
          "name": "stdout",
          "text": [
            "1 * 1 = 1\n",
            "1 * 2 = 2\n",
            "1 * 3 = 3\n",
            "1 * 4 = 4\n",
            "1 * 5 = 5\n",
            "1 * 6 = 6\n",
            "1 * 7 = 7\n",
            "1 * 8 = 8\n",
            "1 * 9 = 9\n",
            "2 * 1 = 2\n",
            "2 * 2 = 4\n",
            "2 * 3 = 6\n",
            "2 * 4 = 8\n",
            "2 * 5 = 10\n",
            "2 * 6 = 12\n",
            "2 * 7 = 14\n",
            "2 * 8 = 16\n",
            "2 * 9 = 18\n",
            "3 * 1 = 3\n",
            "3 * 2 = 6\n",
            "3 * 3 = 9\n",
            "3 * 4 = 12\n",
            "3 * 5 = 15\n",
            "3 * 6 = 18\n",
            "3 * 7 = 21\n",
            "3 * 8 = 24\n",
            "3 * 9 = 27\n",
            "4 * 1 = 4\n",
            "4 * 2 = 8\n",
            "4 * 3 = 12\n",
            "4 * 4 = 16\n",
            "4 * 5 = 20\n",
            "4 * 6 = 24\n",
            "4 * 7 = 28\n",
            "4 * 8 = 32\n",
            "4 * 9 = 36\n",
            "5 * 1 = 5\n",
            "5 * 2 = 10\n",
            "5 * 3 = 15\n",
            "5 * 4 = 20\n",
            "5 * 5 = 25\n",
            "5 * 6 = 30\n",
            "5 * 7 = 35\n",
            "5 * 8 = 40\n",
            "5 * 9 = 45\n",
            "6 * 1 = 6\n",
            "6 * 2 = 12\n",
            "6 * 3 = 18\n",
            "6 * 4 = 24\n",
            "6 * 5 = 30\n",
            "6 * 6 = 36\n",
            "6 * 7 = 42\n",
            "6 * 8 = 48\n",
            "6 * 9 = 54\n",
            "7 * 1 = 7\n",
            "7 * 2 = 14\n",
            "7 * 3 = 21\n",
            "7 * 4 = 28\n",
            "7 * 5 = 35\n",
            "7 * 6 = 42\n",
            "7 * 7 = 49\n",
            "7 * 8 = 56\n",
            "7 * 9 = 63\n",
            "8 * 1 = 8\n",
            "8 * 2 = 16\n",
            "8 * 3 = 24\n",
            "8 * 4 = 32\n",
            "8 * 5 = 40\n",
            "8 * 6 = 48\n",
            "8 * 7 = 56\n",
            "8 * 8 = 64\n",
            "8 * 9 = 72\n",
            "9 * 1 = 9\n",
            "9 * 2 = 18\n",
            "9 * 3 = 27\n",
            "9 * 4 = 36\n",
            "9 * 5 = 45\n",
            "9 * 6 = 54\n",
            "9 * 7 = 63\n",
            "9 * 8 = 72\n",
            "9 * 9 = 81\n"
          ]
        }
      ]
    },
    {
      "cell_type": "markdown",
      "source": [
        "# 第三題\n",
        "```python\n",
        "github: https://github.com/tolgaatam/ColabTurtle\n",
        "turtle原始api: https://docs.python.org/zh-tw/3.8/library/turtle.html\n",
        "```"
      ],
      "metadata": {
        "id": "lf5P57yBakCh"
      }
    },
    {
      "cell_type": "markdown",
      "source": [],
      "metadata": {
        "id": "4lDNb29RdnLR"
      }
    },
    {
      "cell_type": "code",
      "source": [
        "!pip install ColabTurtle"
      ],
      "metadata": {
        "colab": {
          "base_uri": "https://localhost:8080/"
        },
        "id": "T9sww00oamLK",
        "outputId": "e9014076-aec0-4cc8-e04a-05034d4b7a75"
      },
      "execution_count": 2,
      "outputs": [
        {
          "output_type": "stream",
          "name": "stdout",
          "text": [
            "Collecting ColabTurtle\n",
            "  Downloading ColabTurtle-2.1.0.tar.gz (6.8 kB)\n",
            "  Preparing metadata (setup.py) ... \u001b[?25l\u001b[?25hdone\n",
            "Building wheels for collected packages: ColabTurtle\n",
            "  Building wheel for ColabTurtle (setup.py) ... \u001b[?25l\u001b[?25hdone\n",
            "  Created wheel for ColabTurtle: filename=ColabTurtle-2.1.0-py3-none-any.whl size=7642 sha256=3094e4c020861b67b6f92e8db0c83b159fdf9e2060148bc52d9f04b66b4440f5\n",
            "  Stored in directory: /root/.cache/pip/wheels/5b/86/e8/54f5c8c853606e3a3060bb2e60363cbed632374a12e0f33ffc\n",
            "Successfully built ColabTurtle\n",
            "Installing collected packages: ColabTurtle\n",
            "Successfully installed ColabTurtle-2.1.0\n"
          ]
        }
      ]
    },
    {
      "cell_type": "code",
      "source": [
        "import ColabTurtle.Turtle as turtle\n",
        "turtle.initializeTurtle()\n",
        "# 設置狀態\n",
        "# turtle.hideturtle()\n",
        "turtle.speed(5)\n",
        "turtle.pensize(2)\n",
        "# 往前x步\n",
        "turtle.forward(40)\n",
        "# 抬起比(不話)\n",
        "turtle.penup()\n",
        "turtle.forward(40)\n",
        "turtle.pendown()\n",
        "turtle.forward(40)\n",
        "# 往右話(海龜轉90) 往左轉left\n",
        "turtle.right(90)\n",
        "turtle.forward(40)\n",
        "# 電腦坐標系: 左上角都是(0, 0), 往右增加, 往下增加\n",
        "turtle.goto(100, 100)\n",
        "turtle.forward(40)\n",
        "# 得到現在座標: pos()\n",
        "print(turtle.pos())"
      ],
      "metadata": {
        "id": "MtvPQ6_Rcu74"
      },
      "execution_count": null,
      "outputs": []
    },
    {
      "cell_type": "code",
      "source": [
        "import ColabTurtle.Turtle as turtle\n",
        "turtle.initializeTurtle()\n",
        "# 設置狀態\n",
        "# turtle.hideturtle()\n",
        "turtle.speed(2)\n",
        "turtle.pensize(1)\n",
        "\n",
        "# 畫一個正n邊形\n",
        "# 畫其中的一個三角形\n",
        "n = 5\n",
        "# 算中間腳\n",
        "angle = 360 / n\n",
        "\n",
        "for i in range(n):\n",
        "    # 畫一個三角形\n",
        "    turtle.forward(100)\n",
        "    prev = turtle.pos()\n",
        "    turtle.home()\n",
        "    turtle.right(angle * (i + 1))\n",
        "    turtle.forward(100)\n",
        "    turtle.goto(prev)\n",
        "    turtle.home()\n",
        "    turtle.right(angle * (i + 1))"
      ],
      "metadata": {
        "colab": {
          "base_uri": "https://localhost:8080/",
          "height": 521
        },
        "id": "B88siKvswhR0",
        "outputId": "1795ec5a-0a85-4b76-a31d-74868a334054"
      },
      "execution_count": 3,
      "outputs": [
        {
          "output_type": "display_data",
          "data": {
            "text/plain": [
              "<IPython.core.display.HTML object>"
            ],
            "text/html": [
              "\n",
              "      <svg width=\"800\" height=\"500\">\n",
              "        <rect width=\"100%\" height=\"100%\" fill=\"black\"/>\n",
              "        <line x1=\"400\" y1=\"250\" x2=\"400.0\" y2=\"150.0\" stroke-linecap=\"round\" style=\"stroke:white;stroke-width:1\"/><line x1=\"400.0\" y1=\"150.0\" x2=\"400\" y2=\"250\" stroke-linecap=\"round\" style=\"stroke:white;stroke-width:1\"/><line x1=\"400\" y1=\"250\" x2=\"495.106\" y2=\"219.098\" stroke-linecap=\"round\" style=\"stroke:white;stroke-width:1\"/><line x1=\"495.106\" y1=\"219.098\" x2=\"400.0\" y2=\"150.0\" stroke-linecap=\"round\" style=\"stroke:white;stroke-width:1\"/><line x1=\"400.0\" y1=\"150.0\" x2=\"400\" y2=\"250\" stroke-linecap=\"round\" style=\"stroke:white;stroke-width:1\"/><line x1=\"400\" y1=\"250\" x2=\"495.106\" y2=\"219.098\" stroke-linecap=\"round\" style=\"stroke:white;stroke-width:1\"/><line x1=\"495.106\" y1=\"219.098\" x2=\"400\" y2=\"250\" stroke-linecap=\"round\" style=\"stroke:white;stroke-width:1\"/><line x1=\"400\" y1=\"250\" x2=\"458.779\" y2=\"330.902\" stroke-linecap=\"round\" style=\"stroke:white;stroke-width:1\"/><line x1=\"458.779\" y1=\"330.902\" x2=\"495.106\" y2=\"219.098\" stroke-linecap=\"round\" style=\"stroke:white;stroke-width:1\"/><line x1=\"495.106\" y1=\"219.098\" x2=\"400\" y2=\"250\" stroke-linecap=\"round\" style=\"stroke:white;stroke-width:1\"/><line x1=\"400\" y1=\"250\" x2=\"458.779\" y2=\"330.902\" stroke-linecap=\"round\" style=\"stroke:white;stroke-width:1\"/><line x1=\"458.779\" y1=\"330.902\" x2=\"400\" y2=\"250\" stroke-linecap=\"round\" style=\"stroke:white;stroke-width:1\"/><line x1=\"400\" y1=\"250\" x2=\"341.221\" y2=\"330.902\" stroke-linecap=\"round\" style=\"stroke:white;stroke-width:1\"/><line x1=\"341.221\" y1=\"330.902\" x2=\"458.779\" y2=\"330.902\" stroke-linecap=\"round\" style=\"stroke:white;stroke-width:1\"/><line x1=\"458.779\" y1=\"330.902\" x2=\"400\" y2=\"250\" stroke-linecap=\"round\" style=\"stroke:white;stroke-width:1\"/><line x1=\"400\" y1=\"250\" x2=\"341.221\" y2=\"330.902\" stroke-linecap=\"round\" style=\"stroke:white;stroke-width:1\"/><line x1=\"341.221\" y1=\"330.902\" x2=\"400\" y2=\"250\" stroke-linecap=\"round\" style=\"stroke:white;stroke-width:1\"/><line x1=\"400\" y1=\"250\" x2=\"304.894\" y2=\"219.098\" stroke-linecap=\"round\" style=\"stroke:white;stroke-width:1\"/><line x1=\"304.894\" y1=\"219.098\" x2=\"341.221\" y2=\"330.902\" stroke-linecap=\"round\" style=\"stroke:white;stroke-width:1\"/><line x1=\"341.221\" y1=\"330.902\" x2=\"400\" y2=\"250\" stroke-linecap=\"round\" style=\"stroke:white;stroke-width:1\"/><line x1=\"400\" y1=\"250\" x2=\"304.894\" y2=\"219.098\" stroke-linecap=\"round\" style=\"stroke:white;stroke-width:1\"/><line x1=\"304.894\" y1=\"219.098\" x2=\"400\" y2=\"250\" stroke-linecap=\"round\" style=\"stroke:white;stroke-width:1\"/><line x1=\"400\" y1=\"250\" x2=\"400.0\" y2=\"150.0\" stroke-linecap=\"round\" style=\"stroke:white;stroke-width:1\"/><line x1=\"400.0\" y1=\"150.0\" x2=\"304.894\" y2=\"219.098\" stroke-linecap=\"round\" style=\"stroke:white;stroke-width:1\"/><line x1=\"304.894\" y1=\"219.098\" x2=\"400\" y2=\"250\" stroke-linecap=\"round\" style=\"stroke:white;stroke-width:1\"/>\n",
              "        <g visibility=visible transform=\"rotate(360.0,400,250) translate(382, 232)\">\n",
              "<path style=\" stroke:none;fill-rule:evenodd;fill:white;fill-opacity:1;\" d=\"M 18.214844 0.632812 C 16.109375 1.800781 15.011719 4.074219 15.074219 7.132812 L 15.085938 7.652344 L 14.785156 7.496094 C 13.476562 6.824219 11.957031 6.671875 10.40625 7.066406 C 8.46875 7.550781 6.515625 9.15625 4.394531 11.992188 C 3.0625 13.777344 2.679688 14.636719 3.042969 15.027344 L 3.15625 15.152344 L 3.519531 15.152344 C 4.238281 15.152344 4.828125 14.886719 8.1875 13.039062 C 9.386719 12.378906 10.371094 11.839844 10.378906 11.839844 C 10.386719 11.839844 10.355469 11.929688 10.304688 12.035156 C 9.832031 13.09375 9.257812 14.820312 8.96875 16.078125 C 7.914062 20.652344 8.617188 24.53125 11.070312 27.660156 C 11.351562 28.015625 11.363281 27.914062 10.972656 28.382812 C 8.925781 30.84375 7.945312 33.28125 8.238281 35.1875 C 8.289062 35.527344 8.28125 35.523438 8.917969 35.523438 C 10.941406 35.523438 13.074219 34.207031 15.136719 31.6875 C 15.359375 31.417969 15.328125 31.425781 15.5625 31.574219 C 16.292969 32.042969 18.023438 32.964844 18.175781 32.964844 C 18.335938 32.964844 19.941406 32.210938 20.828125 31.71875 C 20.996094 31.625 21.136719 31.554688 21.136719 31.558594 C 21.203125 31.664062 21.898438 32.414062 22.222656 32.730469 C 23.835938 34.300781 25.5625 35.132812 27.582031 35.300781 C 27.90625 35.328125 27.9375 35.308594 28.007812 34.984375 C 28.382812 33.242188 27.625 30.925781 25.863281 28.425781 L 25.542969 27.96875 L 25.699219 27.785156 C 28.945312 23.960938 29.132812 18.699219 26.257812 11.96875 L 26.207031 11.84375 L 27.945312 12.703125 C 31.53125 14.476562 32.316406 14.800781 33.03125 14.800781 C 33.976562 14.800781 33.78125 13.9375 32.472656 12.292969 C 28.519531 7.355469 25.394531 5.925781 21.921875 7.472656 L 21.558594 7.636719 L 21.578125 7.542969 C 21.699219 6.992188 21.761719 5.742188 21.699219 5.164062 C 21.496094 3.296875 20.664062 1.964844 19.003906 0.855469 C 18.480469 0.503906 18.457031 0.5 18.214844 0.632812\"/>\n",
              "</g>\n",
              "      </svg>\n",
              "    "
            ]
          },
          "metadata": {}
        }
      ]
    },
    {
      "cell_type": "markdown",
      "source": [
        "```python\n",
        "妳要畫的圖形\n",
        "\n",
        "妳需要的知識, 起點(x1, y1) 終點(x2, y2)\n",
        "一半應該是 x = (x1+x2)/2 y = (y1+y2)/2\n",
        "```"
      ],
      "metadata": {
        "id": "ixV3QrFwwqJc"
      }
    },
    {
      "cell_type": "code",
      "source": [
        "# 設置\n",
        "turtle.initializeTurtle()\n",
        "turtle.hideturtle()\n",
        "turtle.pensize(1)\n",
        "turtle.speed(5)\n",
        "start = [[200, 50], [600, 50], [600, 450], [200, 450]]\n",
        "for i in range(20):\n",
        "    # 先把筆拿出來\n",
        "    turtle.penup()\n",
        "    # 把我的點移至第一點\n",
        "    x, y = start[0]\n",
        "    turtle.goto(x, y)\n",
        "    # 開始畫 1->2->3->1\n",
        "    turtle.pendown()\n",
        "    for j in range(4):\n",
        "        # 除了要參考下面的開始畫\n",
        "        # 妳還要把newpos每一個0替換成一個新的座標(前面兩個座標的中間點)\n",
        "        newpos = [\"nopos\"] * 4\n",
        "\n",
        "    # 最後一步, 把妳要畫的四個點換成新的四個點\n",
        "    start = newpos"
      ],
      "metadata": {
        "colab": {
          "base_uri": "https://localhost:8080/",
          "height": 718
        },
        "id": "-4UgsXz9wpps",
        "outputId": "bb31ac0e-6f2d-47dd-cba2-7e0421a2a4db"
      },
      "execution_count": 7,
      "outputs": [
        {
          "output_type": "display_data",
          "data": {
            "text/plain": [
              "<IPython.core.display.HTML object>"
            ],
            "text/html": [
              "\n",
              "      <svg width=\"800\" height=\"500\">\n",
              "        <rect width=\"100%\" height=\"100%\" fill=\"black\"/>\n",
              "        \n",
              "        <g visibility=hidden transform=\"rotate(360,200,50) translate(182, 32)\">\n",
              "<path style=\" stroke:none;fill-rule:evenodd;fill:white;fill-opacity:1;\" d=\"M 18.214844 0.632812 C 16.109375 1.800781 15.011719 4.074219 15.074219 7.132812 L 15.085938 7.652344 L 14.785156 7.496094 C 13.476562 6.824219 11.957031 6.671875 10.40625 7.066406 C 8.46875 7.550781 6.515625 9.15625 4.394531 11.992188 C 3.0625 13.777344 2.679688 14.636719 3.042969 15.027344 L 3.15625 15.152344 L 3.519531 15.152344 C 4.238281 15.152344 4.828125 14.886719 8.1875 13.039062 C 9.386719 12.378906 10.371094 11.839844 10.378906 11.839844 C 10.386719 11.839844 10.355469 11.929688 10.304688 12.035156 C 9.832031 13.09375 9.257812 14.820312 8.96875 16.078125 C 7.914062 20.652344 8.617188 24.53125 11.070312 27.660156 C 11.351562 28.015625 11.363281 27.914062 10.972656 28.382812 C 8.925781 30.84375 7.945312 33.28125 8.238281 35.1875 C 8.289062 35.527344 8.28125 35.523438 8.917969 35.523438 C 10.941406 35.523438 13.074219 34.207031 15.136719 31.6875 C 15.359375 31.417969 15.328125 31.425781 15.5625 31.574219 C 16.292969 32.042969 18.023438 32.964844 18.175781 32.964844 C 18.335938 32.964844 19.941406 32.210938 20.828125 31.71875 C 20.996094 31.625 21.136719 31.554688 21.136719 31.558594 C 21.203125 31.664062 21.898438 32.414062 22.222656 32.730469 C 23.835938 34.300781 25.5625 35.132812 27.582031 35.300781 C 27.90625 35.328125 27.9375 35.308594 28.007812 34.984375 C 28.382812 33.242188 27.625 30.925781 25.863281 28.425781 L 25.542969 27.96875 L 25.699219 27.785156 C 28.945312 23.960938 29.132812 18.699219 26.257812 11.96875 L 26.207031 11.84375 L 27.945312 12.703125 C 31.53125 14.476562 32.316406 14.800781 33.03125 14.800781 C 33.976562 14.800781 33.78125 13.9375 32.472656 12.292969 C 28.519531 7.355469 25.394531 5.925781 21.921875 7.472656 L 21.558594 7.636719 L 21.578125 7.542969 C 21.699219 6.992188 21.761719 5.742188 21.699219 5.164062 C 21.496094 3.296875 20.664062 1.964844 19.003906 0.855469 C 18.480469 0.503906 18.457031 0.5 18.214844 0.632812\"/>\n",
              "</g>\n",
              "      </svg>\n",
              "    "
            ]
          },
          "metadata": {}
        },
        {
          "output_type": "error",
          "ename": "ValueError",
          "evalue": "too many values to unpack (expected 2)",
          "traceback": [
            "\u001b[0;31m---------------------------------------------------------------------------\u001b[0m",
            "\u001b[0;31mValueError\u001b[0m                                Traceback (most recent call last)",
            "\u001b[0;32m<ipython-input-7-0ee63104f12f>\u001b[0m in \u001b[0;36m<cell line: 7>\u001b[0;34m()\u001b[0m\n\u001b[1;32m      9\u001b[0m     \u001b[0mturtle\u001b[0m\u001b[0;34m.\u001b[0m\u001b[0mpenup\u001b[0m\u001b[0;34m(\u001b[0m\u001b[0;34m)\u001b[0m\u001b[0;34m\u001b[0m\u001b[0;34m\u001b[0m\u001b[0m\n\u001b[1;32m     10\u001b[0m     \u001b[0;31m# 把我的點移至第一點\u001b[0m\u001b[0;34m\u001b[0m\u001b[0;34m\u001b[0m\u001b[0m\n\u001b[0;32m---> 11\u001b[0;31m     \u001b[0mx\u001b[0m\u001b[0;34m,\u001b[0m \u001b[0my\u001b[0m \u001b[0;34m=\u001b[0m \u001b[0mstart\u001b[0m\u001b[0;34m[\u001b[0m\u001b[0;36m0\u001b[0m\u001b[0;34m]\u001b[0m\u001b[0;34m\u001b[0m\u001b[0;34m\u001b[0m\u001b[0m\n\u001b[0m\u001b[1;32m     12\u001b[0m     \u001b[0mturtle\u001b[0m\u001b[0;34m.\u001b[0m\u001b[0mgoto\u001b[0m\u001b[0;34m(\u001b[0m\u001b[0mx\u001b[0m\u001b[0;34m,\u001b[0m \u001b[0my\u001b[0m\u001b[0;34m)\u001b[0m\u001b[0;34m\u001b[0m\u001b[0;34m\u001b[0m\u001b[0m\n\u001b[1;32m     13\u001b[0m     \u001b[0;31m# 開始畫 1->2->3->1\u001b[0m\u001b[0;34m\u001b[0m\u001b[0;34m\u001b[0m\u001b[0m\n",
            "\u001b[0;31mValueError\u001b[0m: too many values to unpack (expected 2)"
          ]
        }
      ]
    },
    {
      "cell_type": "code",
      "source": [
        "turtle.initializeTurtle()\n",
        "# turtle.hideturtle()\n",
        "turtle.pensize(1)\n",
        "turtle.speed(5)\n",
        "# advice\n",
        "start = [[200, 50], [600, 50], [600, 450], [200, 450]]\n",
        "\n",
        "# 一次\n",
        "turtle.penup()\n",
        "# 先走到第一點(不畫)\n",
        "x, y = start[0]\n",
        "turtle.goto(x, y)\n",
        "turtle.pendown()\n",
        "for i in range(4):\n",
        "    # 1->2->3->1\n",
        "    x2, y2 = start[(i+1)%4]\n",
        "    turtle.goto(x2, y2)"
      ],
      "metadata": {
        "colab": {
          "base_uri": "https://localhost:8080/",
          "height": 521
        },
        "id": "LuTM5Ltywv8X",
        "outputId": "2974558a-dfe9-4ef6-93dc-ef6b83ed9ff0"
      },
      "execution_count": 8,
      "outputs": [
        {
          "output_type": "display_data",
          "data": {
            "text/plain": [
              "<IPython.core.display.HTML object>"
            ],
            "text/html": [
              "\n",
              "      <svg width=\"800\" height=\"500\">\n",
              "        <rect width=\"100%\" height=\"100%\" fill=\"black\"/>\n",
              "        <line x1=\"200\" y1=\"50\" x2=\"600\" y2=\"50\" stroke-linecap=\"round\" style=\"stroke:white;stroke-width:1\"/><line x1=\"600\" y1=\"50\" x2=\"600\" y2=\"450\" stroke-linecap=\"round\" style=\"stroke:white;stroke-width:1\"/><line x1=\"600\" y1=\"450\" x2=\"200\" y2=\"450\" stroke-linecap=\"round\" style=\"stroke:white;stroke-width:1\"/><line x1=\"200\" y1=\"450\" x2=\"200\" y2=\"50\" stroke-linecap=\"round\" style=\"stroke:white;stroke-width:1\"/>\n",
              "        <g visibility=visible transform=\"rotate(360,200,50) translate(182, 32)\">\n",
              "<path style=\" stroke:none;fill-rule:evenodd;fill:white;fill-opacity:1;\" d=\"M 18.214844 0.632812 C 16.109375 1.800781 15.011719 4.074219 15.074219 7.132812 L 15.085938 7.652344 L 14.785156 7.496094 C 13.476562 6.824219 11.957031 6.671875 10.40625 7.066406 C 8.46875 7.550781 6.515625 9.15625 4.394531 11.992188 C 3.0625 13.777344 2.679688 14.636719 3.042969 15.027344 L 3.15625 15.152344 L 3.519531 15.152344 C 4.238281 15.152344 4.828125 14.886719 8.1875 13.039062 C 9.386719 12.378906 10.371094 11.839844 10.378906 11.839844 C 10.386719 11.839844 10.355469 11.929688 10.304688 12.035156 C 9.832031 13.09375 9.257812 14.820312 8.96875 16.078125 C 7.914062 20.652344 8.617188 24.53125 11.070312 27.660156 C 11.351562 28.015625 11.363281 27.914062 10.972656 28.382812 C 8.925781 30.84375 7.945312 33.28125 8.238281 35.1875 C 8.289062 35.527344 8.28125 35.523438 8.917969 35.523438 C 10.941406 35.523438 13.074219 34.207031 15.136719 31.6875 C 15.359375 31.417969 15.328125 31.425781 15.5625 31.574219 C 16.292969 32.042969 18.023438 32.964844 18.175781 32.964844 C 18.335938 32.964844 19.941406 32.210938 20.828125 31.71875 C 20.996094 31.625 21.136719 31.554688 21.136719 31.558594 C 21.203125 31.664062 21.898438 32.414062 22.222656 32.730469 C 23.835938 34.300781 25.5625 35.132812 27.582031 35.300781 C 27.90625 35.328125 27.9375 35.308594 28.007812 34.984375 C 28.382812 33.242188 27.625 30.925781 25.863281 28.425781 L 25.542969 27.96875 L 25.699219 27.785156 C 28.945312 23.960938 29.132812 18.699219 26.257812 11.96875 L 26.207031 11.84375 L 27.945312 12.703125 C 31.53125 14.476562 32.316406 14.800781 33.03125 14.800781 C 33.976562 14.800781 33.78125 13.9375 32.472656 12.292969 C 28.519531 7.355469 25.394531 5.925781 21.921875 7.472656 L 21.558594 7.636719 L 21.578125 7.542969 C 21.699219 6.992188 21.761719 5.742188 21.699219 5.164062 C 21.496094 3.296875 20.664062 1.964844 19.003906 0.855469 C 18.480469 0.503906 18.457031 0.5 18.214844 0.632812\"/>\n",
              "</g>\n",
              "      </svg>\n",
              "    "
            ]
          },
          "metadata": {}
        }
      ]
    }
  ]
}