{
  "nbformat": 4,
  "nbformat_minor": 0,
  "metadata": {
    "colab": {
      "provenance": [],
      "authorship_tag": "ABX9TyMNS/bTQibBhCw1IoDTtXH5",
      "include_colab_link": true
    },
    "kernelspec": {
      "name": "python3",
      "display_name": "Python 3"
    },
    "language_info": {
      "name": "python"
    }
  },
  "cells": [
    {
      "cell_type": "markdown",
      "metadata": {
        "id": "view-in-github",
        "colab_type": "text"
      },
      "source": [
        "<a href=\"https://colab.research.google.com/github/feiii528/Tibame_T.Elwing/blob/main/HW_1_practice.ipynb\" target=\"_parent\"><img src=\"https://colab.research.google.com/assets/colab-badge.svg\" alt=\"Open In Colab\"/></a>"
      ]
    },
    {
      "cell_type": "markdown",
      "source": [
        "# 第一題\n",
        "\n",
        "```python\n",
        "假設我總共有一百層階梯，現在我有兩種走路方式\n",
        "\n",
        "一種是踏一層，第二種是踏兩層\n",
        "\n",
        "請問我到達第一百層的時候，總共有幾種不同方式\n",
        "公式 l(x) = l(x-1) + l(x-2)\n",
        "\n",
        "-> 斐波納契問題\n",
        "0 1 1 2 3 5 8 13 21 34\n",
        "變成\n",
        "1 2 3 5 8 13...\n",
        "```"
      ],
      "metadata": {
        "id": "tNKcwsDWLiv4"
      }
    },
    {
      "cell_type": "code",
      "execution_count": null,
      "metadata": {
        "colab": {
          "base_uri": "https://localhost:8080/"
        },
        "id": "Lw4FkLGXLGCH",
        "outputId": "9a7810eb-1121-46d1-9ce1-84c260b0b4f4"
      },
      "outputs": [
        {
          "output_type": "stream",
          "name": "stdout",
          "text": [
            "100 573147844013817084101\n",
            "走100階總共有 573147844013817084101 種方式\n"
          ]
        }
      ],
      "source": [
        "# 前一階走到方式 prev1\n",
        "# 前兩階走到方式 prev2\n",
        "prev1, prev2 = 0, 0\n",
        "total = 100\n",
        "steep = 1\n",
        "\n",
        "for i in range(total):\n",
        "    # 當我走1階=1(0+1), 走2階=2(1+1), 走3階=3(2+1), 走4階=5(3+2)， 走5階=8(5+3)\n",
        "    # 主要要解決: prev1, prev2的設定\n",
        "    prev1 = prev2\n",
        "    prev2 = steep\n",
        "    steep = prev1 + prev2\n",
        "print(i+1, steep)\n",
        "print(\"走100階總共有\", steep, \"種方式\")"
      ]
    },
    {
      "cell_type": "markdown",
      "source": [
        "# 第二題\n",
        "\n",
        "```python\n",
        "凱薩密碼: 我們每個時間設定一個數字, 假設這數字=2, 那意味著妳再打每個英文字的時候都要往後兩個\n",
        "\n",
        "e.g. appley -> crrnga\n",
        "\n",
        "\n",
        "我已經給妳了一個加密過後的文件(使用凱薩密碼加密), 妳要幫我試試看破解這份文件\n",
        "\n",
        "加密的程式碼給你參考\n",
        "\n",
        "s = \"\"\"原文\"\"\"\n",
        "# 原文最後一句: trouble will come of it\n",
        "f = open(\"password.txt\", \"w\", encoding=\"utf-8\")\n",
        "password =\n",
        "for c in s.lower():\n",
        "    if ord(\"a\") <= ord(c) <= ord(\"z\"):\n",
        "        n = ord(c) - ord(\"a\")\n",
        "        n = (n + password) % 26\n",
        "        f.write(chr(n + ord(\"a\")))\n",
        "    else:\n",
        "        f.write(c)\n",
        "f.close()\n",
        "\n",
        "!!!\n",
        "\n",
        "```"
      ],
      "metadata": {
        "id": "pv1TTvSuWeOF"
      }
    },
    {
      "cell_type": "code",
      "source": [
        "import urllib.request as req\n",
        "\n",
        "url = \"https://github.com/Elwing-Chou/tibame1224/raw/refs/heads/main/password.txt\"\n",
        "# 參數1:下載網址\n",
        "# 參數2:儲存本機的時候的命名\n",
        "req.urlretrieve(url, \"password.txt\")\n",
        "f = open(\"password.txt\", \"r\", encoding=\"utf-8\")\n",
        "message = f.read()\n",
        "f.close()\n",
        "print(message)\n",
        "# 先想如果我假設 密碼=某個值, 我轉換成原文的程式會長什麼樣子\n",
        "# 基於上面我做26次, 看哪一個才是我真正的密碼\n",
        "\n",
        "for word in message:\n",
        "    # 如果我的字串裡有英文則往後加\n",
        "    # 如果含有非文字則保持不動\n",
        "    if word.isalpha():\n",
        "        # 減97讓它保持在數字為0開始，使用%26，看它的商剩餘多少，後面再加97補回來\n",
        "        word = ((ord(word) - 97 + 1) % 26) + 97\n",
        "        word = chr(word)\n",
        "    # 使用end=\"\"可以讓它出現在同一排字\n",
        "        print(word, end=\"\")\n",
        "    else:\n",
        "        print(word, end=\"\")"
      ],
      "metadata": {
        "colab": {
          "base_uri": "https://localhost:8080/"
        },
        "id": "mMnIeEXRUlye",
        "outputId": "4502cff3-8b3e-4673-873e-30e430c81aa3"
      },
      "execution_count": null,
      "outputs": [
        {
          "output_type": "stream",
          "name": "stdout",
          "text": [
            "p adcv-tmetrits epgin\n",
            "\n",
            "lwtc bg. qxaqd qpvvxch du qpv tcs pccdjcrts iwpi wt ldjas hwdgian qt rtatqgpixcv wxh tatktcin-uxghi qxgiwspn lxiw p epgin du hetrxpa bpvcxuxrtcrt, iwtgt lph bjrw ipaz pcs tmrxitbtci xc wdqqxidc.\n",
            "\n",
            "qxaqd lph ktgn gxrw pcs ktgn etrjaxpg, pcs wps qttc iwt ldcstg du iwt hwxgt udg hxmin ntpgh, tktg hxcrt wxh gtbpgzpqat sxhpeetpgpcrt pcs jctmetrits gtijgc. iwt gxrwth wt wps qgdjvwi qprz ugdb wxh igpktah wps cdl qtrdbt p adrpa atvtcs, pcs xi lph edejapgan qtaxtkts, lwpitktg iwt das udaz bxvwi hpn, iwpi iwt wxaa pi qpv tcs lph ujaa du ijcctah hijuuts lxiw igtphjgt. pcs xu iwpi lph cdi tcdjvw udg upbt, iwtgt lph pahd wxh egdadcvts kxvdjg id bpgkta pi. ixbt ldgt dc, qji xi httbts id wpkt axiiat tuutri dc bg. qpvvxch. pi cxctin wt lph bjrw iwt hpbt ph pi uxuin. pi cxctin-cxct iwtn qtvpc id rpaa wxb ltaa-egthtgkts, qji jcrwpcvts ldjas wpkt qttc ctpgtg iwt bpgz. iwtgt ltgt hdbt iwpi hwddz iwtxg wtpsh pcs iwdjvwi iwxh lph idd bjrw du p vdds iwxcv; xi httbts jcupxg iwpi pcndct hwdjas edhhthh (peepgtcian) etgetijpa ndjiw ph ltaa ph (gtejitsan) xctmwpjhixqat ltpaiw.\n",
            "\n",
            "'xi lxaa wpkt id qt epxs udg,' iwtn hpxs. 'xi xhc'i cpijgpa, pcs igdjqat lxaa rdbt du xi!'\n"
          ]
        }
      ]
    },
    {
      "cell_type": "code",
      "source": [
        "# 示範兩層迴圈, 不要想兩層, 裡面做的事先寫完\n",
        "# 把裡面的事情當成一行, 把這行做很多事\n",
        "# x * y =\n",
        "for i in range(9):\n",
        "    n1 = i + 1\n",
        "    for j in range(9):\n",
        "        n2 = j + 1\n",
        "        ans = n1 * n2\n",
        "        print(n1, \"*\", n2, \"=\", ans)"
      ],
      "metadata": {
        "colab": {
          "base_uri": "https://localhost:8080/"
        },
        "collapsed": true,
        "id": "zKAs2Nk6WsEQ",
        "outputId": "9ea27500-9b76-4d8f-838a-b428513ffc86"
      },
      "execution_count": null,
      "outputs": [
        {
          "output_type": "stream",
          "name": "stdout",
          "text": [
            "1 * 1 = 1\n",
            "1 * 2 = 2\n",
            "1 * 3 = 3\n",
            "1 * 4 = 4\n",
            "1 * 5 = 5\n",
            "1 * 6 = 6\n",
            "1 * 7 = 7\n",
            "1 * 8 = 8\n",
            "1 * 9 = 9\n",
            "2 * 1 = 2\n",
            "2 * 2 = 4\n",
            "2 * 3 = 6\n",
            "2 * 4 = 8\n",
            "2 * 5 = 10\n",
            "2 * 6 = 12\n",
            "2 * 7 = 14\n",
            "2 * 8 = 16\n",
            "2 * 9 = 18\n",
            "3 * 1 = 3\n",
            "3 * 2 = 6\n",
            "3 * 3 = 9\n",
            "3 * 4 = 12\n",
            "3 * 5 = 15\n",
            "3 * 6 = 18\n",
            "3 * 7 = 21\n",
            "3 * 8 = 24\n",
            "3 * 9 = 27\n",
            "4 * 1 = 4\n",
            "4 * 2 = 8\n",
            "4 * 3 = 12\n",
            "4 * 4 = 16\n",
            "4 * 5 = 20\n",
            "4 * 6 = 24\n",
            "4 * 7 = 28\n",
            "4 * 8 = 32\n",
            "4 * 9 = 36\n",
            "5 * 1 = 5\n",
            "5 * 2 = 10\n",
            "5 * 3 = 15\n",
            "5 * 4 = 20\n",
            "5 * 5 = 25\n",
            "5 * 6 = 30\n",
            "5 * 7 = 35\n",
            "5 * 8 = 40\n",
            "5 * 9 = 45\n",
            "6 * 1 = 6\n",
            "6 * 2 = 12\n",
            "6 * 3 = 18\n",
            "6 * 4 = 24\n",
            "6 * 5 = 30\n",
            "6 * 6 = 36\n",
            "6 * 7 = 42\n",
            "6 * 8 = 48\n",
            "6 * 9 = 54\n",
            "7 * 1 = 7\n",
            "7 * 2 = 14\n",
            "7 * 3 = 21\n",
            "7 * 4 = 28\n",
            "7 * 5 = 35\n",
            "7 * 6 = 42\n",
            "7 * 7 = 49\n",
            "7 * 8 = 56\n",
            "7 * 9 = 63\n",
            "8 * 1 = 8\n",
            "8 * 2 = 16\n",
            "8 * 3 = 24\n",
            "8 * 4 = 32\n",
            "8 * 5 = 40\n",
            "8 * 6 = 48\n",
            "8 * 7 = 56\n",
            "8 * 8 = 64\n",
            "8 * 9 = 72\n",
            "9 * 1 = 9\n",
            "9 * 2 = 18\n",
            "9 * 3 = 27\n",
            "9 * 4 = 36\n",
            "9 * 5 = 45\n",
            "9 * 6 = 54\n",
            "9 * 7 = 63\n",
            "9 * 8 = 72\n",
            "9 * 9 = 81\n"
          ]
        }
      ]
    },
    {
      "cell_type": "markdown",
      "source": [
        "# 第三題\n",
        "```python\n",
        "github: https://github.com/tolgaatam/ColabTurtle\n",
        "turtle原始api: https://docs.python.org/zh-tw/3.8/library/turtle.html\n",
        "```"
      ],
      "metadata": {
        "id": "lf5P57yBakCh"
      }
    },
    {
      "cell_type": "markdown",
      "source": [],
      "metadata": {
        "id": "4lDNb29RdnLR"
      }
    },
    {
      "cell_type": "code",
      "source": [
        "!pip install ColabTurtle"
      ],
      "metadata": {
        "colab": {
          "base_uri": "https://localhost:8080/"
        },
        "id": "T9sww00oamLK",
        "outputId": "4e6b8dfd-49b3-4313-f784-18cea241699a"
      },
      "execution_count": null,
      "outputs": [
        {
          "output_type": "stream",
          "name": "stdout",
          "text": [
            "Requirement already satisfied: ColabTurtle in /usr/local/lib/python3.10/dist-packages (2.1.0)\n"
          ]
        }
      ]
    },
    {
      "cell_type": "code",
      "source": [
        "import ColabTurtle.Turtle as turtle\n",
        "turtle.initializeTurtle()\n",
        "# 設置狀態\n",
        "# turtle.hideturtle()\n",
        "turtle.speed(5)\n",
        "turtle.pensize(2)\n",
        "# 往前x步\n",
        "turtle.forward(40)\n",
        "# 抬起比(不話)\n",
        "turtle.penup()\n",
        "turtle.forward(40)\n",
        "turtle.pendown()\n",
        "turtle.forward(40)\n",
        "# 往右話(海龜轉90) 往左轉left\n",
        "turtle.right(90)\n",
        "turtle.forward(40)\n",
        "# 電腦坐標系: 左上角都是(0, 0), 往右增加, 往下增加\n",
        "turtle.goto(100, 100)\n",
        "turtle.forward(40)\n",
        "# 得到現在座標: pos()\n",
        "print(turtle.pos())"
      ],
      "metadata": {
        "id": "MtvPQ6_Rcu74"
      },
      "execution_count": null,
      "outputs": []
    }
  ]
}