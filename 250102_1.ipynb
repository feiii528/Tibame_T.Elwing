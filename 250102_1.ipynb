{
  "nbformat": 4,
  "nbformat_minor": 0,
  "metadata": {
    "colab": {
      "provenance": [],
      "authorship_tag": "ABX9TyOBoX4RAnfFtHeISp8e3sam",
      "include_colab_link": true
    },
    "kernelspec": {
      "name": "python3",
      "display_name": "Python 3"
    },
    "language_info": {
      "name": "python"
    }
  },
  "cells": [
    {
      "cell_type": "markdown",
      "metadata": {
        "id": "view-in-github",
        "colab_type": "text"
      },
      "source": [
        "<a href=\"https://colab.research.google.com/github/feiii528/Tibame_T.Elwing/blob/main/250102_1.ipynb\" target=\"_parent\"><img src=\"https://colab.research.google.com/assets/colab-badge.svg\" alt=\"Open In Colab\"/></a>"
      ]
    },
    {
      "cell_type": "markdown",
      "source": [
        "```python\n",
        "!告訴你 你目前看到是什麼型態\n",
        "content-type:\n",
        "application/vnd.yt-ump\n",
        "\n",
        "聲音: mime=audio\n",
        "影片: mime=video\n",
        "畫值: 360P,rn=35基本畫值 1080P,rn=126高畫質\n",
        "\n",
        "需要刪掉:(才可以下載)\n",
        "   1. &ump=1\n",
        "   2. &range=0-(最後的數字)\n",
        "\n",
        "!!!\n",
        "Youtube\n",
        "WIN: https://drive.google.com/file/d/1NG1jLgtNSMA8Gu_WKtfpa7a7sOsXoRiI/view?usp=sharing\n",
        "MAC: https://drive.google.com/file/d/1jeMX_L6j4iINj9f9pRXyddxeHPuLkQJu/view?usp=sharing\n",
        "指令: ffmpeg.exe -i 聲音 -i 影片 out.mp4\n",
        "\n",
        "BAHA\n",
        "WIN: -headers \"Origin: https://ani.gamer.com.tw\" -i \"\" anime.mp4\n",
        "MAC: -headers 'Origin: https://ani.gamer.com.tw' -i '' anime.mp4\n",
        "!!!\n",
        "\n",
        "合併:\n",
        "1. 使用 FFQueue 應用程式\n",
        "2. 使用 命令提示字元(cmd) cd (你要存放的位置)\n",
        "\"C:\\Users\\ASUS\\Desktop\\online\\250102_Python\\FFQueue_1_7_56\\ffmpeg.exe\" -i \"你要的影片\" -i \"你要的聲音\" (輸入你要的名稱.mp4)\n",
        "\n",
        "巴哈姆特動畫瘋\n",
        "先使用 命令提示字元(cmd) cd (你要存放的位置)，再使用\n",
        "\"C:\\Users\\ASUS\\Desktop\\online\\250102_Python\\FFQueue_1_7_56\\ffmpeg.exe\"\n",
        "\n",
        "-headers \"Origin: https://ani.gamer.com.tw\" -i \"https://bahamut.akamaized.net/113448d622788e8a4ee3fe459387b2eab9bb86a1/360p/hdntl=exp=1735876188~acl=%2f113448d622788e8a4ee3fe459387b2eab9bb86a1%2fplaylist_guest.m3u8!%2f113448d622788e8a4ee3fe459387b2eab9bb86a1%2f360p%2f*~data=hdntl,1e2da2f00970295%3a36632%3a0%3a1%3a52525229%3a0~hmac=4c1ddbc1cd5f40e3843bcac6cdeacb4113aa9dd535f42f8b583af3c4fe0f0385/chunklist_b400000.m3u8\" anime.mp4\n",
        "\n",
        "\n",
        "```"
      ],
      "metadata": {
        "id": "nuHB7edy0hHI"
      }
    },
    {
      "cell_type": "code",
      "execution_count": null,
      "metadata": {
        "id": "TNiksY7Jhj9f"
      },
      "outputs": [],
      "source": [
        "f = open(\"a.txt\",\"w\", encoding=\"utf-8\")\n",
        "# 以前邏輯 寫入功能: write(f, \"abcde\")\n",
        "# 但我們發覺你那第一個參數非得是檔案型態不可\n",
        "# 我們會想強調 這個功能是檔案的特殊功能\n",
        "# 專屬功能: f.write(\"abcde\")\n",
        "# 專屬功能: f.close()\n",
        "f.write(\"abcde\\nfgh\")\n",
        "f.close()"
      ]
    },
    {
      "cell_type": "code",
      "source": [
        "# 資料夾 資料夾檔案 分隔always使用\"/\"\n",
        "f = open(\"sample_data/README.md\", \"r\", encoding=\"utf-8\")\n",
        "# 專屬功能: content = f.read()\n",
        "content = f.read()\n",
        "print(content)\n",
        "f.close()"
      ],
      "metadata": {
        "colab": {
          "base_uri": "https://localhost:8080/"
        },
        "id": "fIJhi2qz2LJX",
        "outputId": "2fc872b2-5e15-4aab-81d0-20e08a990861"
      },
      "execution_count": null,
      "outputs": [
        {
          "output_type": "stream",
          "name": "stdout",
          "text": [
            "This directory includes a few sample datasets to get you started.\n",
            "\n",
            "*   `california_housing_data*.csv` is California housing data from the 1990 US\n",
            "    Census; more information is available at:\n",
            "    https://docs.google.com/document/d/e/2PACX-1vRhYtsvc5eOR2FWNCwaBiKL6suIOrxJig8LcSBbmCbyYsayia_DvPOOBlXZ4CAlQ5nlDD8kTaIDRwrN/pub\n",
            "\n",
            "*   `mnist_*.csv` is a small sample of the\n",
            "    [MNIST database](https://en.wikipedia.org/wiki/MNIST_database), which is\n",
            "    described at: http://yann.lecun.com/exdb/mnist/\n",
            "\n",
            "*   `anscombe.json` contains a copy of\n",
            "    [Anscombe's quartet](https://en.wikipedia.org/wiki/Anscombe%27s_quartet); it\n",
            "    was originally described in\n",
            "\n",
            "    Anscombe, F. J. (1973). 'Graphs in Statistical Analysis'. American\n",
            "    Statistician. 27 (1): 17-21. JSTOR 2682899.\n",
            "\n",
            "    and our copy was prepared by the\n",
            "    [vega_datasets library](https://github.com/altair-viz/vega_datasets/blob/4f67bdaad10f45e3549984e17e1b3088c731503d/vega_datasets/_data/anscombe.json).\n",
            "\n"
          ]
        }
      ]
    },
    {
      "cell_type": "code",
      "source": [
        "n = 3.15\n",
        "s = \"abcde{}fgh\".format(n)\n",
        "print(s)"
      ],
      "metadata": {
        "colab": {
          "base_uri": "https://localhost:8080/"
        },
        "id": "FIA89sG94Mig",
        "outputId": "d741d87b-8e41-4f4a-b287-8b9cd054c7df"
      },
      "execution_count": null,
      "outputs": [
        {
          "output_type": "stream",
          "name": "stdout",
          "text": [
            "abcde3.15fgh\n"
          ]
        }
      ]
    },
    {
      "cell_type": "markdown",
      "source": [
        "```python\n",
        "查詢進階操作\n",
        "1. 反向key\n",
        "2. 查詢一段: list[開始key:結束key(不包含)]\n",
        "3. 查詢一段並且跳著: list[開始key:結束(不包):幾個一跳]\n",
        "\n",
        "要記得的: [0] [-1] [::-1]\n",
        "```"
      ],
      "metadata": {
        "id": "KB5yPBaN_iv7"
      }
    },
    {
      "cell_type": "code",
      "source": [
        "scores = [30, 20, 60, 40, 80]\n",
        "print(sum(scores),\n",
        "   max(scores),\n",
        "   min(scores),\n",
        "   len(scores),\n",
        "   sorted(scores),\n",
        "   sorted(scores, reverse=True))\n",
        "print(scores[-1])\n",
        "print(scores[1:4])\n",
        "print(scores[1:-1])\n",
        "print(scores[1:])\n",
        "print(scores[:4])\n",
        "\n",
        "# list[2:11:3] [2, 5, 8]\n",
        "print(scores[1:5:2])\n",
        "# 奇數位置\n",
        "print(scores[::2])\n",
        "# 偶數位置\n",
        "print(scores[1::2])\n",
        "# 跳號的值是正的, 就左到右\n",
        "# 跳號的值是負的, 從右到左\n",
        "# list[11:2:-3] [11, 8, 5]\n",
        "# !!!!!\n",
        "print(scores[::-1])"
      ],
      "metadata": {
        "colab": {
          "base_uri": "https://localhost:8080/"
        },
        "id": "yO5rZNjU8ugY",
        "outputId": "f0970e9f-4e3c-484d-a232-c416bc5035c0"
      },
      "execution_count": null,
      "outputs": [
        {
          "output_type": "stream",
          "name": "stdout",
          "text": [
            "230 80 20 5 [20, 30, 40, 60, 80] [80, 60, 40, 30, 20]\n",
            "80\n",
            "[20, 60, 40]\n",
            "[20, 60, 40]\n",
            "[20, 60, 40, 80]\n",
            "[30, 20, 60, 40]\n",
            "[20, 40]\n"
          ]
        }
      ]
    },
    {
      "cell_type": "code",
      "source": [
        "scores = [60, 80, 20, 30, 50]\n",
        "\n",
        "total = 0\n",
        "i = 0\n",
        "while i < len(scores):\n",
        "    # !!!很不泛用: 但以後不是每種群的Key都會是0 1 2 3\n",
        "    s = scores[i]\n",
        "    if s >= 60:\n",
        "        total = total + 1\n",
        "    i = i + 1\n",
        "print(\"及格:\", total)"
      ],
      "metadata": {
        "colab": {
          "base_uri": "https://localhost:8080/"
        },
        "id": "vZtgnWcFC2l_",
        "outputId": "35efe6b7-5687-487a-8d51-9f7369e3ae1d"
      },
      "execution_count": null,
      "outputs": [
        {
          "output_type": "stream",
          "name": "stdout",
          "text": [
            "及格: 3\n"
          ]
        }
      ]
    },
    {
      "cell_type": "markdown",
      "source": [
        "```python\n",
        "for 名稱 in 群:\n",
        "    xxx\n",
        "    \n",
        "for...in會幫你這群東西裡面每個東西拿給妳一次, 有順序就照順序, 沒順序就隨意\n",
        "```"
      ],
      "metadata": {
        "id": "hogAxAXtEmpf"
      }
    },
    {
      "cell_type": "code",
      "source": [
        "scores = [60, 80, 20, 30, 50]\n",
        "total = 0\n",
        "for s in scores:\n",
        "    if s >= 60:\n",
        "        total = total + 1\n",
        "print(\"及格:\", total)"
      ],
      "metadata": {
        "colab": {
          "base_uri": "https://localhost:8080/"
        },
        "id": "uOHyXHo7E-WI",
        "outputId": "b375dc39-97f8-4249-dd8d-1e3980487f3b"
      },
      "execution_count": null,
      "outputs": [
        {
          "output_type": "stream",
          "name": "stdout",
          "text": [
            "及格: 2\n"
          ]
        }
      ]
    },
    {
      "cell_type": "code",
      "source": [
        "# 1 + 2 + 3 ... + 10\n",
        "# while ...\n",
        "total = 0\n",
        "i = 0\n",
        "while i < 10:\n",
        "    total = total + (i + 1)\n",
        "    i = i + 1\n",
        "print(total)"
      ],
      "metadata": {
        "id": "YSqgkSfPG29A"
      },
      "execution_count": null,
      "outputs": []
    },
    {
      "cell_type": "markdown",
      "source": [
        "```python\n",
        "i = 0...9\n",
        "\n",
        "所以如果今天我有個[0, 1, 2, ..., 9]\n",
        "\n",
        "有功能可以幫你產生這個list\n",
        "!!!!!1. range(5) -> [0, 1, 2, 3, 4]\n",
        "2. range(2, 5) -> [2, 3, 4]\n",
        "3. range(2, 11, 3) -> [2, 5, 8]\n",
        "\n",
        "for i in range(次)\n",
        "1. 次在range裡\n",
        "2. i = 0....次-1\n",
        "```"
      ],
      "metadata": {
        "id": "qPETyZkIHuDP"
      }
    },
    {
      "cell_type": "code",
      "source": [
        "# 1 + 2 + 3 ... + 10\n",
        "# if ... in ...\n",
        "total = 0\n",
        "for i in range(10):\n",
        "    total = total + (i + 1)\n",
        "print(total)"
      ],
      "metadata": {
        "colab": {
          "base_uri": "https://localhost:8080/"
        },
        "id": "rMK2d3Z4FueD",
        "outputId": "635907ea-7977-4fac-ee62-3f0591564978"
      },
      "execution_count": null,
      "outputs": [
        {
          "output_type": "stream",
          "name": "stdout",
          "text": [
            "55\n"
          ]
        }
      ]
    },
    {
      "cell_type": "markdown",
      "source": [
        "# 迴圈SOP\n",
        "\n",
        "```python\n",
        "1. 數次數: for i in range(次):\n",
        "2. 走過字串: for 名稱 in 群:\n",
        "3. 其他條件: while True + break\n",
        "\n",
        "```"
      ],
      "metadata": {
        "id": "jeN3tkzfIXkE"
      }
    }
  ]
}