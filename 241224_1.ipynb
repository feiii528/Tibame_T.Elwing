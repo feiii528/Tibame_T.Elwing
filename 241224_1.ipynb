{
  "nbformat": 4,
  "nbformat_minor": 0,
  "metadata": {
    "colab": {
      "provenance": [],
      "authorship_tag": "ABX9TyM0ssOeRIcfUTHDdIKlDHNm",
      "include_colab_link": true
    },
    "kernelspec": {
      "name": "python3",
      "display_name": "Python 3"
    },
    "language_info": {
      "name": "python"
    }
  },
  "cells": [
    {
      "cell_type": "markdown",
      "metadata": {
        "id": "view-in-github",
        "colab_type": "text"
      },
      "source": [
        "<a href=\"https://colab.research.google.com/github/feiii528/Tibame_T.Elwing/blob/main/241224_1.ipynb\" target=\"_parent\"><img src=\"https://colab.research.google.com/assets/colab-badge.svg\" alt=\"Open In Colab\"/></a>"
      ]
    },
    {
      "cell_type": "markdown",
      "source": [
        "```python\n",
        "Latex Math: 數學排版\n",
        "IndentationError: 指的是縮排問題\n",
        "list = []，清單順序由0開始\n",
        "反縮排: shift + tab\n",
        "\n",
        "```\n",
        "$ a = \\sum_{i=0}^{n} \\frac{1}{n+1} $\n"
      ],
      "metadata": {
        "id": "UcDF9j8rhVxm"
      }
    },
    {
      "cell_type": "code",
      "execution_count": null,
      "metadata": {
        "colab": {
          "base_uri": "https://localhost:8080/"
        },
        "id": "PqxmHxucbRb0",
        "outputId": "65f7b45f-43fb-4090-966b-f09a755a8d0a"
      },
      "outputs": [
        {
          "output_type": "stream",
          "name": "stdout",
          "text": [
            "請輸入體重:80\n",
            "請輸入身高:155\n",
            "你的體重是:80.0\n",
            "你的身高是:155.0\n",
            "你的bmi是:33.29864724245577\n",
            "過重\n",
            "少吃多動\n"
          ]
        }
      ],
      "source": [
        "# bmi = weight(kg) / height(m) ^ 2\n",
        "weight = float(input(\"請輸入體重:\"))\n",
        "height = float(input(\"請輸入身高:\"))\n",
        "bmi = weight / (height / 100) ** 2\n",
        "print(\"你的體重是:\" + str(weight))\n",
        "print(\"你的身高是:\" + str(height))\n",
        "print(\"你的bmi是:\" + str(bmi))\n",
        "\n",
        "if bmi > 25:\n",
        "  print(\"過重\")\n",
        "  print(\"少吃多動\")\n",
        "else:\n",
        "  print(\"正常\")"
      ]
    },
    {
      "cell_type": "code",
      "source": [
        "import random\n",
        "\n",
        "my = int(input(\"0.剪刀 1.石頭 2.布:\"))\n",
        "com = random.randint(0, 2)\n",
        "trans = [\"剪刀\", \"石頭\", \"布\"]\n",
        "print(\"我出的:\", trans[my])\n",
        "print(\"電腦的:\", trans[com])\n",
        "\n",
        "# >, >=, <, <=, ==\n",
        "if my == (com + 1) % 3:\n",
        "  print(\"WIN\")\n",
        "elif com == (my + 1) % 3:\n",
        "  print(\"LOSE\")\n",
        "else:\n",
        "  print(\"EVEN\")\n",
        "print(\"!!!!!\")"
      ],
      "metadata": {
        "colab": {
          "base_uri": "https://localhost:8080/"
        },
        "id": "qWug-e3hXRPH",
        "outputId": "5daa5609-0215-4d41-b270-d595e1855f13"
      },
      "execution_count": null,
      "outputs": [
        {
          "output_type": "stream",
          "name": "stdout",
          "text": [
            "0.剪刀 1.石頭 2.布:2\n",
            "我出的: 布\n",
            "電腦的: 布\n",
            "EVEN\n",
            "!!!!!\n"
          ]
        }
      ]
    },
    {
      "cell_type": "markdown",
      "source": [
        "#1224作業\n",
        "\n",
        "```python\n",
        "我有6種拳\n",
        "0會輸給1，1輸給2，2會輸給0，\n",
        "3會輸給4,4會輸給5，5會輸給6，\n",
        "其餘皆為平手\n",
        "1 // 3 -> 0 (取商數)\n",
        "1 % 3 -> 1 (取餘數)\n",
        "\n",
        "\n",
        "```"
      ],
      "metadata": {
        "id": "V95NJWDMsjMU"
      }
    },
    {
      "cell_type": "code",
      "source": [
        "import random\n",
        "\n",
        "my = int(input(\"0-5:\"))\n",
        "com = random.randint(0, 5)\n",
        "\n",
        "# 準備一個翻譯清單，來把我們原本的0-5換成中文\n",
        "trans = [\"剪刀(0)\", \"石頭(0)\", \"布(0)\",\n",
        "      \"剪刀(1)\", \"石頭(1)\", \"布(1)\"]\n",
        "print(\"我出的:\", trans[my])\n",
        "print(\"電腦的:\", trans[com])\n",
        "\n",
        "# 第一步:先確定他們是否同組\n",
        "# 取商: 分組 取餘: 循環\n",
        "mygroup = my // 3\n",
        "comgroup = com // 3\n",
        "if mygroup == comgroup:\n",
        "    # 情況1: my, com都是0~2(0~2) 不用動\n",
        "    # 情況2: my, com都是3~5(0~2) -3\n",
        "    # 合併成同一情況 0 1 2(把這組最低-0)\n",
        "    # 如果是3~5 回到0~2(餘數)\n",
        "    my2 = my % 3\n",
        "    com2 = com % 3\n",
        "    # 本來的剪刀石頭布\n",
        "    if my2 == (com + 1) % 3:\n",
        "      print(\"WIN\")\n",
        "    elif com2 == (my + 1) % 3:\n",
        "      print(\"LOSE\")\n",
        "    else:\n",
        "      print(\"EVEN\")\n",
        "else:\n",
        "    print(\"平手(不同組)\")"
      ],
      "metadata": {
        "colab": {
          "base_uri": "https://localhost:8080/"
        },
        "id": "UP_H9xz3taTU",
        "outputId": "bf00216c-5e9a-46e8-be15-3f372c85b786"
      },
      "execution_count": null,
      "outputs": [
        {
          "output_type": "stream",
          "name": "stdout",
          "text": [
            "0-5:5\n",
            "我出的: 布(1)\n",
            "電腦的: 剪刀(1)\n",
            "LOSE\n"
          ]
        }
      ]
    }
  ]
}