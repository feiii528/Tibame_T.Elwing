{
  "nbformat": 4,
  "nbformat_minor": 0,
  "metadata": {
    "colab": {
      "provenance": [],
      "authorship_tag": "ABX9TyMipH0EqLJqtBnu2QFqTK8D",
      "include_colab_link": true
    },
    "kernelspec": {
      "name": "python3",
      "display_name": "Python 3"
    },
    "language_info": {
      "name": "python"
    }
  },
  "cells": [
    {
      "cell_type": "markdown",
      "metadata": {
        "id": "view-in-github",
        "colab_type": "text"
      },
      "source": [
        "<a href=\"https://colab.research.google.com/github/feiii528/Tibame_T.Elwing/blob/main/250120_1.ipynb\" target=\"_parent\"><img src=\"https://colab.research.google.com/assets/colab-badge.svg\" alt=\"Open In Colab\"/></a>"
      ]
    },
    {
      "cell_type": "markdown",
      "source": [
        "```python\n",
        "聽故事!!!! 稍微知道就可以了\n",
        "\n",
        "我們之前說import你就是要import到某個.py\n",
        "\n",
        "照抄.功能() 照抄...\n",
        "\n",
        "我們從來沒遇過妳某隻檔案裏面\n",
        "\n",
        "os(檔案).xxxx.功能\n",
        "\n",
        "os.py 兩行\n",
        "\n",
        "import posixpath(檔案) as path\n",
        "import ntpath(檔案) as path\n",
        "\n",
        "這個path就是這個\n",
        "!!! 因為外部使用者並不會想自己分辨\n",
        "!!! 封裝(讓外部使用者感覺都是同一個exists)\n",
        "!!! 但裡面幫妳導到不同作業系統的指令\n",
        "!!! 妳外部永遠只要同一行 os.path.exists\n",
        "\n",
        "\n",
        "在ntpath和posixpath裡面都有一行\n",
        "from genericpath import *\n",
        "\n",
        "事實上妳是吃到genericpath.py裡面的exists\n",
        "\n",
        "exists是存在在genericpath.py裡面的\n",
        "\n",
        "!!! 因為exists這指令在windows/mac/linux都是一樣的\n",
        "!!! 那我們絕對不會重複一直寫, 所以我們就拉出一隻檔案把它定義裡面\n",
        "\n",
        "```"
      ],
      "metadata": {
        "id": "5bn4RjGUbfsB"
      }
    },
    {
      "cell_type": "code",
      "source": [
        "import os\n",
        "import urllib.request as req\n",
        "import bs4 as bs\n",
        "\n",
        "url = \"https://www.ptt.cc/bbs/Beauty/M.1736755829.A.02A.html\"\n",
        "# 創造資料夾\n",
        "dirname = url.split(\"/\")[-1]\n",
        "if not os.path.exists(dirname):\n",
        "    os.makedirs(dirname)\n",
        "\n",
        "r = req.Request(url)\n",
        "r.add_header(\"User-Agent\", \"Mozilla/5.0 (Windows NT 10.0; Win64; x64) AppleWebKit/537.36 (KHTML, like Gecko) Chrome/131.0.0.0 Safari/537.36 Edg/131.0.0.0\")\n",
        "\n",
        "response = req.urlopen(r)\n",
        "html = bs.BeautifulSoup(response)\n",
        "\n",
        "allow_subname = [\"jpg\", \"jpeg\", \"png\", \"gif\"]\n",
        "links = html.find_all(\"a\")\n",
        "for l in links:\n",
        "    href = l[\"href\"]\n",
        "    subname = href.split(\".\")[-1]\n",
        "    if subname.lower() in allow_subname:\n",
        "        r = req.Request(href)\n",
        "        r.add_header(\"User-Agent\", \"Mozilla/5.0 (Windows NT 10.0; Win64; x64) AppleWebKit/537.36 (KHTML, like Gecko) Chrome/131.0.0.0 Safari/537.36 Edg/131.0.0.0\")\n",
        "        img = req.urlopen(r)\n",
        "        fname = href.split(\"/\")[-1]\n",
        "        # 完整路徑(用字串加法是有點累的 \"/\", os.path.join不用)\n",
        "        fpath = os.path.join(dirname, fname)\n",
        "        f = open(fpath, \"wb\")\n",
        "        f.write(img.read())\n",
        "        f.close()"
      ],
      "metadata": {
        "id": "D2Jh8jfnbe9O"
      },
      "execution_count": null,
      "outputs": []
    },
    {
      "cell_type": "code",
      "source": [
        "import os\n",
        "import urllib.request as req\n",
        "import bs4 as bs\n",
        "\n",
        "def dl_post_image(url):\n",
        "    # url = \"https://www.ptt.cc/bbs/Beauty/M.1736755829.A.02A.html\"\n",
        "    # 創造資料夾\n",
        "    dirname = url.split(\"/\")[-1]\n",
        "    dirname = os.path.join(\"ptt\", dirname)\n",
        "    if not os.path.exists(dirname):\n",
        "        os.makedirs(dirname)\n",
        "\n",
        "    r = req.Request(url)\n",
        "    r.add_header(\"User-Agent\", \"Mozilla/5.0 (Windows NT 10.0; Win64; x64) AppleWebKit/537.36 (KHTML, like Gecko) Chrome/131.0.0.0 Safari/537.36 Edg/131.0.0.0\")\n",
        "\n",
        "    response = req.urlopen(r)\n",
        "    html = bs.BeautifulSoup(response)\n",
        "\n",
        "    allow_subname = [\"jpg\", \"jpeg\", \"png\", \"gif\"]\n",
        "    links = html.find_all(\"a\")\n",
        "    for l in links:\n",
        "        href = l[\"href\"]\n",
        "        subname = href.split(\".\")[-1]\n",
        "        if subname.lower() in allow_subname:\n",
        "            r = req.Request(href)\n",
        "            r.add_header(\"User-Agent\", \"Mozilla/5.0 (Windows NT 10.0; Win64; x64) AppleWebKit/537.36 (KHTML, like Gecko) Chrome/131.0.0.0 Safari/537.36 Edg/131.0.0.0\")\n",
        "            img = req.urlopen(r)\n",
        "            fname = href.split(\"/\")[-1]\n",
        "            # 完整路徑(用字串加法是有點累的 \"/\", os.path.join不用)\n",
        "            fpath = os.path.join(dirname, fname)\n",
        "            f = open(fpath, \"wb\")\n",
        "            f.write(img.read())\n",
        "            f.close()"
      ],
      "metadata": {
        "id": "p9OQ1PIjesa_"
      },
      "execution_count": null,
      "outputs": []
    },
    {
      "cell_type": "code",
      "execution_count": null,
      "metadata": {
        "colab": {
          "base_uri": "https://localhost:8080/"
        },
        "id": "r43j3KT4Xs2S",
        "outputId": "ab0a5a70-649a-4de9-dd4b-d83cdbf34211"
      },
      "outputs": [
        {
          "output_type": "stream",
          "name": "stdout",
          "text": [
            "https://www.ptt.cc/bbs/Beauty/M.1737162050.A.EA1.html\n",
            "https://www.ptt.cc/bbs/Beauty/M.1737164418.A.B9B.html\n",
            "https://www.ptt.cc/bbs/Beauty/M.1737164759.A.625.html\n",
            "這篇被刪了\n",
            "https://www.ptt.cc/bbs/Beauty/M.1737172640.A.4C5.html\n",
            "https://www.ptt.cc/bbs/Beauty/M.1737177354.A.3CF.html\n",
            "https://www.ptt.cc/bbs/Beauty/M.1737179262.A.1E8.html\n",
            "https://www.ptt.cc/bbs/Beauty/M.1737182986.A.920.html\n",
            "https://www.ptt.cc/bbs/Beauty/M.1737189398.A.CAA.html\n",
            "https://www.ptt.cc/bbs/Beauty/M.1737192599.A.90F.html\n",
            "https://www.ptt.cc/bbs/Beauty/M.1737193583.A.A22.html\n",
            "https://www.ptt.cc/bbs/Beauty/M.1737209212.A.D66.html\n",
            "https://www.ptt.cc/bbs/Beauty/M.1737248469.A.BC8.html\n",
            "https://www.ptt.cc/bbs/Beauty/M.1737248570.A.E9D.html\n",
            "https://www.ptt.cc/bbs/Beauty/M.1737248677.A.D05.html\n",
            "https://www.ptt.cc/bbs/Beauty/M.1737248796.A.252.html\n",
            "https://www.ptt.cc/bbs/Beauty/M.1737251853.A.27E.html\n",
            "https://www.ptt.cc/bbs/Beauty/M.1737256223.A.C91.html\n",
            "https://www.ptt.cc/bbs/Beauty/M.1737258056.A.744.html\n",
            "https://www.ptt.cc/bbs/Beauty/M.1737260903.A.847.html\n"
          ]
        }
      ],
      "source": [
        "# 當成全新的在寫\n",
        "import urllib.request as req\n",
        "\n",
        "url = \"https://www.ptt.cc/bbs/Beauty/index3950.html\"\n",
        "r = req.Request(url)\n",
        "r.add_header(\"User-Agent\", \"Mozilla/5.0 (Windows NT 10.0; Win64; x64) AppleWebKit/537.36 (KHTML, like Gecko) Chrome/131.0.0.0 Safari/537.36 Edg/131.0.0.0\")\n",
        "\n",
        "response = req.urlopen(r)\n",
        "html = bs.BeautifulSoup(response)\n",
        "titles = html.find_all(\"div\", {\"class\":\"title\"})\n",
        "\n",
        "for t in titles:\n",
        "    post_link = t.find(\"a\")\n",
        "    # t裡有a: 正常\n",
        "    if not post_link == None:\n",
        "        post_url = \"https://www.ptt.cc\" + post_link[\"href\"]\n",
        "        print(post_url)\n",
        "        dl_post_image(post_url)\n",
        "    # t裡沒a: 刪文的\n",
        "    else:\n",
        "        print(\"這篇被刪了\")"
      ]
    },
    {
      "cell_type": "code",
      "source": [
        "for p in os.walk(\"ptt\"):\n",
        "    for fname in p[2]:\n",
        "        fpath = os.path.join(p[0], fname)\n",
        "        os.remove(fpath)\n",
        "    for dirname in p[1]:\n",
        "        dpath = os.path.join(p[0], dirname)\n",
        "        os.rmdir(dpath)\n",
        "os.rmdir(\"ptt\")"
      ],
      "metadata": {
        "id": "79DIOMNcmpfQ"
      },
      "execution_count": null,
      "outputs": []
    }
  ]
}