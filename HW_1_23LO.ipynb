{
  "nbformat": 4,
  "nbformat_minor": 0,
  "metadata": {
    "colab": {
      "provenance": [],
      "authorship_tag": "ABX9TyMTXmh+KTz6LoTDpLRw2olq",
      "include_colab_link": true
    },
    "kernelspec": {
      "name": "python3",
      "display_name": "Python 3"
    },
    "language_info": {
      "name": "python"
    }
  },
  "cells": [
    {
      "cell_type": "markdown",
      "metadata": {
        "id": "view-in-github",
        "colab_type": "text"
      },
      "source": [
        "<a href=\"https://colab.research.google.com/github/feiii528/Tibame_T.Elwing/blob/main/HW_1_23LO.ipynb\" target=\"_parent\"><img src=\"https://colab.research.google.com/assets/colab-badge.svg\" alt=\"Open In Colab\"/></a>"
      ]
    },
    {
      "cell_type": "markdown",
      "source": [
        "# 第一題\n",
        "```python\n",
        "假設我總共有一百層階梯，現在我有兩種走路方式\n",
        "\n",
        "一種是踏一層，第二種是踏兩層\n",
        "\n",
        "請問我到達第一百層的時候，總共有幾種不同方式\n",
        "```"
      ],
      "metadata": {
        "id": "zkKsS_M3HfZG"
      }
    },
    {
      "cell_type": "code",
      "execution_count": 1,
      "metadata": {
        "colab": {
          "base_uri": "https://localhost:8080/"
        },
        "id": "2Snyo6eMsJbJ",
        "outputId": "990b92e0-73d8-4002-c52a-198ac8d64230"
      },
      "outputs": [
        {
          "output_type": "stream",
          "name": "stdout",
          "text": [
            "100 573147844013817084101\n",
            "走100階總共有 573147844013817084101 種方式\n"
          ]
        }
      ],
      "source": [
        "# 前一階走到方式 prev1\n",
        "# 前兩階走到方式 prev2\n",
        "prev1, prev2 = 0, 0\n",
        "total = 100\n",
        "steep = 1\n",
        "\n",
        "for i in range(total):\n",
        "    # 當我走1階=1(0+1), 走2階=2(1+1), 走3階=3(2+1), 走4階=5(3+2)， 走5階=8(5+3)\n",
        "    # 主要要解決: prev1, prev2的設定\n",
        "    # 把後面一次取代為前一次\n",
        "    prev1 = prev2\n",
        "    prev2 = steep\n",
        "    steep = prev1 + prev2\n",
        "print(i+1, steep)\n",
        "print(\"走100階總共有\", steep, \"種方式\")"
      ]
    }
  ]
}